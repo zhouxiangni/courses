
https://web.mit.edu/dimitrib/www/RLbook.html


Some questions for students

+ [BOOK] P11 vs P12:   Why eqn.(14) for optimal value function at each stage is recursively defined backward in time; while the *open loop* control $u^*_k$ is de
